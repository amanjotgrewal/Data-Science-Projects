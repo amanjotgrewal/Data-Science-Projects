{
 "cells": [
  {
   "cell_type": "markdown",
   "id": "c8b92447",
   "metadata": {},
   "source": [
    "# Automatic File Sorter"
   ]
  },
  {
   "cell_type": "code",
   "execution_count": 14,
   "id": "4dbcc14f",
   "metadata": {},
   "outputs": [],
   "source": [
    "import os, shutil"
   ]
  },
  {
   "cell_type": "code",
   "execution_count": 15,
   "id": "4a8e3f6c",
   "metadata": {},
   "outputs": [],
   "source": [
    "path = r\"C:/Users/Mehtab/OneDrive/Desktop/Denoising_paper/\""
   ]
  },
  {
   "cell_type": "code",
   "execution_count": 16,
   "id": "7c5b6df8",
   "metadata": {},
   "outputs": [],
   "source": [
    "file_name = os.listdir(path)"
   ]
  },
  {
   "cell_type": "code",
   "execution_count": 17,
   "id": "e9a8484b",
   "metadata": {},
   "outputs": [],
   "source": [
    "folder_names = ['doc files', 'pdf files', 'excel files']\n",
    "for x in range(0,3):\n",
    "    if not os.path.exists(path + folder_names[x]):\n",
    "        os.makedirs((path + folder_names[x]))"
   ]
  },
  {
   "cell_type": "code",
   "execution_count": 18,
   "id": "6514e242",
   "metadata": {},
   "outputs": [],
   "source": [
    "for file in file_name:\n",
    "    if \".docx\" in file and not os.path.exists(path + \"doc files/\" + file):\n",
    "        shutil.move(path + file, path + \"doc files/\" + file )\n",
    "    elif \".pdf\" in file and not os.path.exists(path + \"pdf files/\" + file):\n",
    "        shutil.move(path + file, path + \"pdf files/\" + file )\n",
    "    elif \".xlsx\" in file and not os.path.exists(path + \"excel files/\" + file):\n",
    "        shutil.move(path + file, path + \"excel files/\" + file )"
   ]
  },
  {
   "cell_type": "code",
   "execution_count": null,
   "id": "98b59edf",
   "metadata": {},
   "outputs": [],
   "source": []
  },
  {
   "cell_type": "code",
   "execution_count": null,
   "id": "e130e5de",
   "metadata": {},
   "outputs": [],
   "source": []
  },
  {
   "cell_type": "code",
   "execution_count": null,
   "id": "2b4ad177",
   "metadata": {},
   "outputs": [],
   "source": []
  },
  {
   "cell_type": "code",
   "execution_count": null,
   "id": "29a41bc6",
   "metadata": {},
   "outputs": [],
   "source": []
  },
  {
   "cell_type": "code",
   "execution_count": null,
   "id": "0aeae86b",
   "metadata": {},
   "outputs": [],
   "source": []
  },
  {
   "cell_type": "code",
   "execution_count": null,
   "id": "efcff369",
   "metadata": {},
   "outputs": [],
   "source": []
  },
  {
   "cell_type": "code",
   "execution_count": null,
   "id": "1823b379",
   "metadata": {},
   "outputs": [],
   "source": []
  }
 ],
 "metadata": {
  "kernelspec": {
   "display_name": "Python 3 (ipykernel)",
   "language": "python",
   "name": "python3"
  },
  "language_info": {
   "codemirror_mode": {
    "name": "ipython",
    "version": 3
   },
   "file_extension": ".py",
   "mimetype": "text/x-python",
   "name": "python",
   "nbconvert_exporter": "python",
   "pygments_lexer": "ipython3",
   "version": "3.10.9"
  }
 },
 "nbformat": 4,
 "nbformat_minor": 5
}
